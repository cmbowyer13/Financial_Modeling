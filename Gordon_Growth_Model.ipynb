{
 "cells": [
  {
   "cell_type": "markdown",
   "metadata": {},
   "source": [
    "# The formula is V = D / (K - G), where V is the stock price based on the model (intrinsic value), D is the expected dividend return one year from now, K is the required rate of return for equity investor (or just price appreciation or price growth rate), and G is the constant growth rate of dividends in perpetuity (dividend growth rate)"
   ]
  },
  {
   "cell_type": "code",
   "execution_count": 2,
   "metadata": {},
   "outputs": [],
   "source": [
    "# Ref 1: https://www.investopedia.com/terms/g/gordongrowthmodel.asp\n",
    "# Ref 2: https://eml.berkeley.edu/~craine/EconH195/Fall_15/webpage/Notes%20on%20the%20Gordon%20Valuation%20Formula3.pdf"
   ]
  },
  {
   "cell_type": "markdown",
   "metadata": {},
   "source": [
    "## Note that this can be used as a tool to compare the predicted intrinsic value of a stock with the actual market value. If the predicted intrisic value is higher than the actual market value, then the stock is undervalued and should be bought, most likely. "
   ]
  },
  {
   "cell_type": "markdown",
   "metadata": {},
   "source": [
    "## K seems arbitary, but as an example k = 10% = 0.1 is acceptable (This could be estimated as well from historical data -- is this the year over year appreciation on the stock price?) G on the other hand can be estimated from previous history of dividend payments by a company to arrive at accurate dividend for next year. Once G is estimated properly it could be applied to the current Dividend given our in the current year to estimate next year's dividend payout. I will now apply these ideas to a few current companies and see if they are undervalued or overvalued. I will take Eli Lilly as example to check if the company is currently overvalued or undervalued. "
   ]
  },
  {
   "cell_type": "code",
   "execution_count": 3,
   "metadata": {},
   "outputs": [],
   "source": [
    "# Eli lilly stock price at beginning of year: \n",
    "P = 271.73"
   ]
  },
  {
   "cell_type": "markdown",
   "metadata": {},
   "source": [
    "## Next, let's estimate LLY's dividend growth rate: "
   ]
  },
  {
   "cell_type": "code",
   "execution_count": 6,
   "metadata": {},
   "outputs": [
    {
     "name": "stdout",
     "output_type": "stream",
     "text": [
      "Estimated Dividend growth rate: 0.52\n"
     ]
    }
   ],
   "source": [
    "# Ref: https://investor.lilly.com/stock-information/dividends-splits\n",
    "\n",
    "# Eli Lilly's Dividends in 2022:\n",
    "D_22 = 3.92\n",
    "# Eli Lilly's Dividends in 2021:\n",
    "D_21 = 3.40\n",
    "D_20 = 2.96\n",
    "D_19 = 2.58\n",
    "D_18 = 2.25\n",
    "D_17 = 2.08\n",
    "\n",
    "G = D_22 - D_21\n",
    "print(\"Estimated Dividend growth rate:\", G)"
   ]
  },
  {
   "cell_type": "markdown",
   "metadata": {},
   "source": [
    "## Next, let's estimate LLY price growth rate"
   ]
  },
  {
   "cell_type": "code",
   "execution_count": 10,
   "metadata": {},
   "outputs": [
    {
     "name": "stdout",
     "output_type": "stream",
     "text": [
      "Estimated price growth rate:  0.7935000000000002\n"
     ]
    }
   ],
   "source": [
    "# LLY current price\n",
    "P_22 = 357.86\n",
    "# LLy price at end of 2021\n",
    "P_21 = 278.51\n",
    "# LLY price at end of 2020\n",
    "P_20 = 131.77\n",
    "\n",
    "K = (P_22 - P_21)/100\n",
    "print(\"Estimated price growth rate: \", K)"
   ]
  },
  {
   "cell_type": "markdown",
   "metadata": {},
   "source": [
    "# Now, we can estimate LLY 23' dividend payout: "
   ]
  },
  {
   "cell_type": "code",
   "execution_count": 14,
   "metadata": {},
   "outputs": [
    {
     "name": "stdout",
     "output_type": "stream",
     "text": [
      "Estimated dividend payout for LLY 2023 = 5.9584\n"
     ]
    }
   ],
   "source": [
    "D = G*D_22 + D_22\n",
    "print(\"Estimated dividend payout for LLY 2023 =\", D)"
   ]
  },
  {
   "cell_type": "markdown",
   "metadata": {},
   "source": [
    "# Big drumroll... Let's see if LLY is undervalued or overvalued!"
   ]
  },
  {
   "cell_type": "code",
   "execution_count": 15,
   "metadata": {},
   "outputs": [
    {
     "name": "stdout",
     "output_type": "stream",
     "text": [
      "The intrinsic value of LLY =  21.78574040219377\n"
     ]
    }
   ],
   "source": [
    "V = D / (K-G)\n",
    "print(\"The intrinsic value of LLY = \", V)"
   ]
  },
  {
   "cell_type": "code",
   "execution_count": null,
   "metadata": {},
   "outputs": [],
   "source": [
    "# For sci-kit learn linear regression: https://realpython.com/linear-regression-in-python/"
   ]
  },
  {
   "cell_type": "code",
   "execution_count": null,
   "metadata": {},
   "outputs": [],
   "source": []
  }
 ],
 "metadata": {
  "kernelspec": {
   "display_name": "Python 3",
   "language": "python",
   "name": "python3"
  },
  "language_info": {
   "codemirror_mode": {
    "name": "ipython",
    "version": 3
   },
   "file_extension": ".py",
   "mimetype": "text/x-python",
   "name": "python",
   "nbconvert_exporter": "python",
   "pygments_lexer": "ipython3",
   "version": "3.7.2"
  }
 },
 "nbformat": 4,
 "nbformat_minor": 2
}
